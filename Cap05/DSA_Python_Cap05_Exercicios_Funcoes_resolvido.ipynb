{
  "cells": [
    {
      "cell_type": "markdown",
      "metadata": {
        "id": "ua-L83XZMbCZ"
      },
      "source": [
        "# <font color='blue'>Data Science Academy</font>\n",
        "\n",
        "## <font color='blue'>Fundamentos de Linguagem Python Para Análise de Dados e Data Science</font>\n",
        "\n",
        "## <font color='blue'>Capítulo 5 - Exercicios de Métodos e Funções</font>"
      ]
    },
    {
      "cell_type": "code",
      "execution_count": 1,
      "metadata": {
        "colab": {
          "base_uri": "https://localhost:8080/"
        },
        "id": "PsbVlItkMbCd",
        "outputId": "d08d5dff-f556-4870-e945-0850184ea150"
      },
      "outputs": [
        {
          "output_type": "stream",
          "name": "stdout",
          "text": [
            "Versão da Linguagem Python Usada Neste Jupyter Notebook: 3.10.12\n"
          ]
        }
      ],
      "source": [
        "# Versão da Linguagem Python\n",
        "from platform import python_version\n",
        "print('Versão da Linguagem Python Usada Neste Jupyter Notebook:', python_version())"
      ]
    },
    {
      "cell_type": "markdown",
      "metadata": {
        "id": "A1u9_lTdMbCf"
      },
      "source": [
        "## Exercícios - Métodos e Funções"
      ]
    },
    {
      "cell_type": "code",
      "execution_count": 13,
      "metadata": {
        "colab": {
          "base_uri": "https://localhost:8080/"
        },
        "id": "8rnYnUCRMbCf",
        "outputId": "147eb4d6-749d-4d3c-c47c-408a0da30a24"
      },
      "outputs": [
        {
          "output_type": "stream",
          "name": "stdout",
          "text": [
            "2\n",
            "4\n",
            "6\n",
            "8\n",
            "10\n",
            "12\n",
            "14\n",
            "16\n",
            "18\n",
            "20\n",
            "\n",
            "\n",
            "2\n",
            "4\n",
            "6\n",
            "8\n",
            "10\n",
            "12\n",
            "14\n",
            "16\n",
            "18\n",
            "20\n",
            "\n",
            "\n",
            "2\n",
            "4\n",
            "6\n",
            "8\n",
            "10\n",
            "12\n",
            "14\n",
            "16\n",
            "18\n",
            "20\n"
          ]
        }
      ],
      "source": [
        "# Exercício 1 - Crie uma função que imprima a sequência de números pares entre 1 e 20 (a função não recebe parâmetro)\n",
        "# e depois faça uma chamada à função para listar os números\n",
        "\n",
        "# Fazendo com função:\n",
        "def listagem ():\n",
        "  for i in range (1, 21):\n",
        "    if i % 2 == 0:\n",
        "      print (i)\n",
        "\n",
        "# Fazendo com função + list comprehension:\n",
        "def listagem_alternativa():\n",
        "    [print(i) for i in range(1, 21) if i % 2 == 0]\n",
        "\n",
        "# Fazendo com função lambda:\n",
        "list(map(lambda x: print(x), filter(lambda x: x % 2 == 0, range(1, 21))))\n",
        "print('\\n')\n",
        "listagem()\n",
        "print('\\n')\n",
        "listagem_alternativa()\n"
      ]
    },
    {
      "cell_type": "code",
      "execution_count": 14,
      "metadata": {
        "colab": {
          "base_uri": "https://localhost:8080/",
          "height": 35
        },
        "id": "0hzfCKgFMbCg",
        "outputId": "a53bd8f9-b0cc-4a5f-f663-d7012c2106b6"
      },
      "outputs": [
        {
          "output_type": "execute_result",
          "data": {
            "text/plain": [
              "'OLÁ'"
            ],
            "application/vnd.google.colaboratory.intrinsic+json": {
              "type": "string"
            }
          },
          "metadata": {},
          "execution_count": 14
        }
      ],
      "source": [
        "# Exercício 2 - Crie uam função que receba uma string como argumento e retorne a mesma string em letras maiúsculas.\n",
        "# Faça uma chamada à função, passando como parâmetro uma string\n",
        "def conversao(word):\n",
        "  return word.upper()\n",
        "\n",
        "conversao(\"olá\")"
      ]
    },
    {
      "cell_type": "code",
      "execution_count": 19,
      "metadata": {
        "colab": {
          "base_uri": "https://localhost:8080/"
        },
        "id": "HqrfnRJqMbCg",
        "outputId": "f540756d-1a2e-452f-a6f0-5366f8e7afd4"
      },
      "outputs": [
        {
          "output_type": "stream",
          "name": "stdout",
          "text": [
            "[1, 2, 3, 4, 5, 6]\n"
          ]
        }
      ],
      "source": [
        "# Exercício 3 - Crie uma função que receba como parâmetro uma lista de 4 elementos, adicione 2 elementos a lista e\n",
        "# imprima a lista\n",
        "def adicionar_elementos(lista):\n",
        "    lista.extend([5, 6])\n",
        "    print(lista)\n",
        "\n",
        "num = [1, 2, 3, 4]\n",
        "adicionar_elementos(num)\n"
      ]
    },
    {
      "cell_type": "code",
      "execution_count": 23,
      "metadata": {
        "colab": {
          "base_uri": "https://localhost:8080/"
        },
        "id": "K013FdRAMbCg",
        "outputId": "caa91aa4-6009-414c-a2c8-c508ce58ebb7"
      },
      "outputs": [
        {
          "output_type": "stream",
          "name": "stdout",
          "text": [
            "olá\n",
            "1\n",
            "2\n",
            "3\n"
          ]
        }
      ],
      "source": [
        "# Exercício 4 - Crie uma função que receba um argumento formal e uma possível lista de elementos. Faça duas chamadas\n",
        "# à função, com apenas 1 elemento e na segunda chamada com 4 elementos\n",
        "def retornar(arg1, *lista):\n",
        "  print (arg1)\n",
        "  for i in lista:\n",
        "    print (i)\n",
        "\n",
        "retornar(\"olá\")\n",
        "retornar(1, 2, 3)"
      ]
    },
    {
      "cell_type": "code",
      "execution_count": 25,
      "metadata": {
        "colab": {
          "base_uri": "https://localhost:8080/"
        },
        "id": "F2mIpZPUMbCg",
        "outputId": "49425bed-e3f2-4c8f-dbc7-03691c757d8f"
      },
      "outputs": [
        {
          "output_type": "execute_result",
          "data": {
            "text/plain": [
              "4"
            ]
          },
          "metadata": {},
          "execution_count": 25
        }
      ],
      "source": [
        "# Exercício 5 - Crie uma função anônima e atribua seu retorno a uma variável chamada soma. A expressão vai receber 2\n",
        "# números como parâmetro e retornar a soma deles\n",
        "\n",
        "soma = lambda num1, num2: num1 + num2\n",
        "soma(2, 2)"
      ]
    },
    {
      "cell_type": "code",
      "execution_count": 26,
      "metadata": {
        "colab": {
          "base_uri": "https://localhost:8080/"
        },
        "id": "_OeltyZAMbCg",
        "outputId": "f0e39fdb-4ae9-4db4-e2c6-7504845e43bf"
      },
      "outputs": [
        {
          "output_type": "stream",
          "name": "stdout",
          "text": [
            "Dentro da função o total é:  30\n",
            "Fora da função o total é:  0\n"
          ]
        }
      ],
      "source": [
        "# Exercício 6 - Execute o código abaixo e certifique-se que compreende a diferença entre variável global e local\n",
        "total = 0\n",
        "def soma( arg1, arg2 ):\n",
        "    total = arg1 + arg2;\n",
        "    print (\"Dentro da função o total é: \", total)\n",
        "    return total;\n",
        "\n",
        "\n",
        "soma( 10, 20 );\n",
        "print (\"Fora da função o total é: \", total)\n",
        "\n",
        "# Compreendo 100% a diferença entre variável global e local"
      ]
    },
    {
      "cell_type": "code",
      "execution_count": 30,
      "metadata": {
        "colab": {
          "base_uri": "https://localhost:8080/"
        },
        "id": "EiZ3S7C5MbCh",
        "outputId": "d53eea76-1ecb-4c4b-80e1-cf02475162ae"
      },
      "outputs": [
        {
          "output_type": "stream",
          "name": "stdout",
          "text": [
            "[102.56, 97.7, 99.14, 100.03999999999999]\n"
          ]
        }
      ],
      "source": [
        "# Exercício 7 - Abaixo você encontra uma lista com temperaturas em graus Celsius\n",
        "# Crie uma função anônima que converta cada temperatura para Fahrenheit\n",
        "# Dica: para conseguir realizar este exercício, você deve criar sua função lambda, dentro de uma função\n",
        "# (que será estudada no próximo capítulo). Isso permite aplicar sua função a cada elemento da lista\n",
        "# Como descobrir a fórmula matemática que converte de Celsius para Fahrenheit? Pesquise!!!\n",
        "Celsius = [39.2, 36.5, 37.3, 37.8]\n",
        "Fahrenheit = map(lambda x: (x * 9/5) + 32, Celsius)\n",
        "print (list(Fahrenheit))"
      ]
    },
    {
      "cell_type": "code",
      "execution_count": 33,
      "metadata": {
        "colab": {
          "base_uri": "https://localhost:8080/"
        },
        "id": "4j2AWTG3MbCh",
        "outputId": "43bf8a82-bb48-4eb2-a2a8-8ba42690507b"
      },
      "outputs": [
        {
          "output_type": "execute_result",
          "data": {
            "text/plain": [
              "[1, 4, 9, 16, 25, 36, 49, 64, 81, 100]"
            ]
          },
          "metadata": {},
          "execution_count": 33
        }
      ],
      "source": [
        "# Exercício 8 - Crie uma list comprehension que imprima o quadrado dos números de 1 a 10\n",
        "[x**2 for x in range (1, 11)]"
      ]
    },
    {
      "cell_type": "code",
      "execution_count": 34,
      "metadata": {
        "colab": {
          "base_uri": "https://localhost:8080/"
        },
        "id": "QLMgSnm9MbCi",
        "outputId": "76c4c123-aed9-479f-bdbd-c6f31dc0c042"
      },
      "outputs": [
        {
          "output_type": "execute_result",
          "data": {
            "text/plain": [
              "['maça', 'banana']"
            ]
          },
          "metadata": {},
          "execution_count": 34
        }
      ],
      "source": [
        "# Exercício 9 - Crie uma list comprehension que imprima as palavras com a letra a no nome\n",
        "palavras = [\"maça\", \"coiote\", \"banana\", \"terreno\", \"Python\"]\n",
        "[i for i in palavras if \"a\" in i]"
      ]
    },
    {
      "cell_type": "code",
      "execution_count": 35,
      "metadata": {
        "colab": {
          "base_uri": "https://localhost:8080/"
        },
        "id": "QuXJhscMMbCi",
        "outputId": "cf42889d-8e4a-4dcb-9da8-c9397f8b3769"
      },
      "outputs": [
        {
          "output_type": "execute_result",
          "data": {
            "text/plain": [
              "[1, 2, 3, 4]"
            ]
          },
          "metadata": {},
          "execution_count": 35
        }
      ],
      "source": [
        "# Exercício 10 - Crie uma list comprehension que imprima os números menores que 5 em um intervalo de 1 a 10\n",
        "[num for num in range (1, 11) if num < 5]"
      ]
    },
    {
      "cell_type": "markdown",
      "metadata": {
        "id": "kG2I1Q_BMbCj"
      },
      "source": [
        "# Fim"
      ]
    },
    {
      "cell_type": "markdown",
      "metadata": {
        "id": "Ety1MuCwMbCj"
      },
      "source": [
        "### Obrigado\n",
        "\n",
        "### Visite o Blog da Data Science Academy - <a href=\"http://blog.dsacademy.com.br\">Blog DSA</a>"
      ]
    }
  ],
  "metadata": {
    "kernelspec": {
      "display_name": "Python 3 (ipykernel)",
      "language": "python",
      "name": "python3"
    },
    "language_info": {
      "codemirror_mode": {
        "name": "ipython",
        "version": 3
      },
      "file_extension": ".py",
      "mimetype": "text/x-python",
      "name": "python",
      "nbconvert_exporter": "python",
      "pygments_lexer": "ipython3",
      "version": "3.9.13"
    },
    "colab": {
      "provenance": []
    }
  },
  "nbformat": 4,
  "nbformat_minor": 0
}