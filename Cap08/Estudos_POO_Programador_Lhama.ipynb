{
  "nbformat": 4,
  "nbformat_minor": 0,
  "metadata": {
    "colab": {
      "provenance": []
    },
    "kernelspec": {
      "name": "python3",
      "display_name": "Python 3"
    },
    "language_info": {
      "name": "python"
    }
  },
  "cells": [
    {
      "cell_type": "markdown",
      "source": [
        "# Introdução"
      ],
      "metadata": {
        "id": "srCgwWAWarn2"
      }
    },
    {
      "cell_type": "code",
      "execution_count": null,
      "metadata": {
        "colab": {
          "base_uri": "https://localhost:8080/"
        },
        "id": "YqB3NW9PUv2Y",
        "outputId": "570c8ba2-e7f3-47b5-e8ca-5818a5d52a8e"
      },
      "outputs": [
        {
          "output_type": "stream",
          "name": "stdout",
          "text": [
            "Rafael, tem 1.73 de altura, olhos verdes e cabelos ondulados\n"
          ]
        }
      ],
      "source": [
        "class Pessoa():\n",
        "    def __init__(self, nome, altura, cor_olhos, tipo_cabelo):\n",
        "        self.nome = nome\n",
        "        self.altura = altura\n",
        "        self.olhos = cor_olhos\n",
        "        self.cabelo = tipo_cabelo\n",
        "\n",
        "    def mostrar_pessoa(self):\n",
        "        print(f'{self.nome}, tem {self.altura} de altura, olhos {self.olhos} e cabelos {self.cabelo}')\n",
        "\n",
        "p1 = Pessoa(\"Rafael\", 1.73, \"verdes\", \"ondulados\")\n",
        "p1.mostrar_pessoa()"
      ]
    },
    {
      "cell_type": "code",
      "source": [
        "class Livro():\n",
        "\n",
        "  def __init__(self, titulo, id, ano):\n",
        "    self.titulo = titulo\n",
        "    self.id = id\n",
        "    self.ano = ano\n",
        "\n",
        "  def lista_livros(self):\n",
        "    print (\"Quero ler esse livro um dia\")\n",
        "\n",
        "  def estou_lendo(self):\n",
        "    print(\"Estou lendo esse livro\")\n",
        "\n",
        "  def paginas_lidas(self, paginas):\n",
        "    return f\"Já li {paginas} desse livro\"\n",
        "\n",
        "sapiens = Livro(\"Sapiens\", \"001\", 2000)\n",
        "print (sapiens.titulo)\n",
        "print (sapiens.id)\n",
        "print (sapiens.ano)\n",
        "sapiens.lista_livros()\n",
        "sapiens.estou_lendo()\n",
        "print (sapiens.paginas_lidas(170))\n"
      ],
      "metadata": {
        "id": "uOryVI2R1Igc",
        "colab": {
          "base_uri": "https://localhost:8080/"
        },
        "outputId": "a4ccead2-3a14-40b3-dd85-6bfabd17dc1f"
      },
      "execution_count": null,
      "outputs": [
        {
          "output_type": "stream",
          "name": "stdout",
          "text": [
            "Sapiens\n",
            "001\n",
            "2000\n",
            "Quero ler esse livro um dia\n",
            "Estou lendo esse livro\n",
            "Já li 170 desse livro\n"
          ]
        }
      ]
    },
    {
      "cell_type": "code",
      "source": [
        "  class SistemaCadastral():\n",
        "\n",
        "    def cadastrar(self, nome: str, idade: int) -> None:\n",
        "      if self.__verificar_dados(nome, idade):\n",
        "        self.__armazenar_usuário(nome, idade)\n",
        "      else:\n",
        "        self.__indicar_erro()\n",
        "\n",
        "    def __verificar_dados(self, nome: str, idade: int) -> bool:\n",
        "      if isinstance(nome, str) and isinstance(idade, int):\n",
        "        return True\n",
        "      else:\n",
        "        return False\n",
        "\n",
        "    def __armazenar_usuário(self, nome: str, idade: int) --> str:\n",
        "      print('Acessando o banco de dados...')\n",
        "      print(f\"Cadastrar o Usuário {nome}, Idade {idade}\")\n",
        "\n",
        "    def __indicar_erro(self) -> str:\n",
        "      print('Dados Inválidos!')\n"
      ],
      "metadata": {
        "id": "330WUNCbbQ2u"
      },
      "execution_count": null,
      "outputs": []
    },
    {
      "cell_type": "code",
      "source": [
        "  class Loja():\n",
        "\n",
        "    tarifa = 1.03\n",
        "\n",
        "    def __init__(self, endereco: str) -> None:\n",
        "      self.__endereco = endereco\n",
        "\n",
        "    def apresentar_endereco(self) -> None:\n",
        "      print(self.__endereco)\n",
        "\n",
        "    @classmethod\n",
        "    def vender(cls) -> int:\n",
        "      return 40 * cls.tarifa\n",
        "\n",
        "    @classmethod\n",
        "    def alterar_tarifa(cls, nova_tarifa: int) -> None:\n",
        "      cls.tarifa = nova_tarifa\n",
        "\n",
        "  loja_praia = Loja('Praia')\n",
        "  loja_centro = Loja('Centro')\n",
        "\n",
        "  loja_praia.apresentar_endereco()\n",
        "\n",
        "  print(loja_praia.vender())\n",
        "  print(loja_centro.vender())"
      ],
      "metadata": {
        "colab": {
          "base_uri": "https://localhost:8080/"
        },
        "id": "Ik_kLmo5blEM",
        "outputId": "19c9ec57-1ec3-46ce-b662-18da69589c57"
      },
      "execution_count": null,
      "outputs": [
        {
          "output_type": "stream",
          "name": "stdout",
          "text": [
            "Praia\n",
            "41.2\n",
            "41.2\n"
          ]
        }
      ]
    },
    {
      "cell_type": "code",
      "source": [
        "  class Error():\n",
        "\n",
        "    @staticmethod\n",
        "    def error_505():\n",
        "      print (\"erro\")\n",
        "\n",
        "\n",
        "    def error_404():\n",
        "      print (\"erro 2\")\n",
        "\n",
        "  Error.error_505()"
      ],
      "metadata": {
        "colab": {
          "base_uri": "https://localhost:8080/"
        },
        "id": "wic3QvmltrEG",
        "outputId": "0364e228-82aa-462b-b66d-7eac887b127c"
      },
      "execution_count": null,
      "outputs": [
        {
          "output_type": "stream",
          "name": "stdout",
          "text": [
            "erro\n"
          ]
        }
      ]
    },
    {
      "cell_type": "code",
      "source": [
        "  from typing import Type\n",
        "\n",
        "  class Interruptor():\n",
        "\n",
        "    def __init__(self, comodo: str) -> None:\n",
        "      self.__comodo = comodo\n",
        "\n",
        "    def acender(self) -> str:\n",
        "      print(f'Acendendo {self.__comodo}')\n",
        "\n",
        "    def apagar(self) -> str:\n",
        "      print(f'Apagando {self.__comodo}')\n",
        "\n",
        "  class Pessoa():\n",
        "\n",
        "    def acender_luz(self, interruptor: Type[Interruptor]):\n",
        "      interruptor.acender()\n",
        "\n",
        "    def apagar_luz(self, interruptor: Type[Interruptor]):\n",
        "      interruptor.apagar()\n",
        "\n",
        "    def dormir(self):\n",
        "      print('Fui dormir...')\n",
        "\n",
        "\n",
        "  Rafael = Pessoa()\n",
        "  interruptor_quarto = Interruptor('quarto')\n",
        "  interruptor_cozinha = Interruptor('cozinha')\n",
        "\n",
        "  interruptor_quarto.acender()\n",
        "  Rafael.acender_luz(interruptor_cozinha)\n",
        "  Rafael.apagar_luz(interruptor_quarto)\n",
        "  Rafael.dormir()\n"
      ],
      "metadata": {
        "colab": {
          "base_uri": "https://localhost:8080/"
        },
        "id": "9w-KVU8NW0Fg",
        "outputId": "4295885b-aa1c-4c29-f908-918495fbe39a"
      },
      "execution_count": null,
      "outputs": [
        {
          "output_type": "stream",
          "name": "stdout",
          "text": [
            "Acendendo quarto\n",
            "Acendendo cozinha\n",
            "Apagando quarto\n",
            "Fui dormir...\n"
          ]
        }
      ]
    },
    {
      "cell_type": "code",
      "source": [
        "  class Cachorro:\n",
        "      def latir(self):\n",
        "          print('au au au')\n",
        "\n",
        "\n",
        "  class Pessoa:\n",
        "      def afagar_animal(self, animal):\n",
        "          animal.latir()\n",
        "\n",
        "\n",
        "  roberto = Pessoa()\n",
        "  rex = Cachorro()\n",
        "  roberto.afagar_animal(rex)\n"
      ],
      "metadata": {
        "colab": {
          "base_uri": "https://localhost:8080/"
        },
        "id": "1heUaP8RZX2I",
        "outputId": "761dbc68-adb9-4df8-b04d-b2ab2828f475"
      },
      "execution_count": null,
      "outputs": [
        {
          "output_type": "stream",
          "name": "stdout",
          "text": [
            "au au au\n"
          ]
        }
      ]
    },
    {
      "cell_type": "code",
      "source": [
        "  from typing import Type\n",
        "\n",
        "  class Casa:\n",
        "\n",
        "      def __init__(self) -> None:\n",
        "          self._endereco = 'Rua dos Limoeiros'\n",
        "\n",
        "      def acender_luzes(self) -> None:\n",
        "          print('Estou Acendendo as Luzes')\n",
        "\n",
        "      def get_endereco(self) -> str:\n",
        "          return self._endereco\n",
        "\n",
        "  class Pessoa:\n",
        "\n",
        "      def __init__(self, nome: str, local: Type[Casa]) -> None:\n",
        "          self._local = local()\n",
        "          self._nome = nome\n",
        "\n",
        "      def entrar_no_local(self) -> None:\n",
        "          self._local.acender_luzes()\n",
        "\n",
        "      def apresentar_local(self) -> None:\n",
        "          endereco = self._local.get_endereco()\n",
        "          print(endereco)\n",
        "\n",
        "  casa_de_amigo = Casa()\n",
        "  ana = Pessoa('Ana', Casa)\n",
        "\n",
        "  ana.entrar_no_local()\n",
        "  ana.apresentar_local()\n"
      ],
      "metadata": {
        "colab": {
          "base_uri": "https://localhost:8080/"
        },
        "id": "7TpCgTnF2biH",
        "outputId": "ebc43356-ce37-4d32-de62-6302784952bd"
      },
      "execution_count": null,
      "outputs": [
        {
          "output_type": "stream",
          "name": "stdout",
          "text": [
            "Estou Acendendo as Luzes\n",
            "Rua dos Limoeiros\n"
          ]
        }
      ]
    },
    {
      "cell_type": "code",
      "source": [
        "  class Algoritmo():\n",
        "\n",
        "    def __init__ (self, tipo_algoritmo: str) -> None:\n",
        "      self.__tipo_algoritmo = tipo_algoritmo\n",
        "\n",
        "    def mostrar_algoritmo (self) -> None:\n",
        "      print (f\"O algoritmo escolhido foi o de {self.__tipo_algoritmo}\")\n",
        "\n",
        "  bayes = Algoritmo(\"Bayes\")\n",
        "  bayes.mostrar_algoritmo()\n",
        "  Knn = Algoritmo(\"Knn\")\n",
        "  Knn.mostrar_algoritmo()"
      ],
      "metadata": {
        "id": "MDDS4mD13sqd",
        "colab": {
          "base_uri": "https://localhost:8080/"
        },
        "outputId": "2ce8e270-8516-4db5-8689-345f8eec9a77"
      },
      "execution_count": null,
      "outputs": [
        {
          "output_type": "stream",
          "name": "stdout",
          "text": [
            "O algoritmo escolhido foi o de Bayes\n",
            "O algoritmo escolhido foi o de Knn\n"
          ]
        }
      ]
    },
    {
      "cell_type": "code",
      "source": [
        "  def soma_lista(*lista):\n",
        "    cont = 0\n",
        "    for numero in lista:\n",
        "        cont += numero\n",
        "    return cont\n",
        "\n",
        "  resultado = soma_lista(10, 10, 50, 50)\n",
        "  print(resultado)\n"
      ],
      "metadata": {
        "colab": {
          "base_uri": "https://localhost:8080/"
        },
        "id": "_wgLVZ2aVse1",
        "outputId": "c35e3ea8-2a90-4c9c-c523-3f01fc2c4dbb"
      },
      "execution_count": null,
      "outputs": [
        {
          "output_type": "stream",
          "name": "stdout",
          "text": [
            "120\n"
          ]
        }
      ]
    },
    {
      "cell_type": "markdown",
      "source": [
        "# Herança"
      ],
      "metadata": {
        "id": "snwhlmAOay0I"
      }
    },
    {
      "cell_type": "code",
      "source": [
        "  class Mae():\n",
        "\n",
        "    def __init__(self, endereco) -> None:\n",
        "      self.endereco = endereco\n",
        "      self.sobrenome = 'Silva'\n",
        "\n",
        "    def comer(self) -> None:\n",
        "      print('Estou comendo !!!')\n",
        "\n",
        "    def estudar(self) -> None:\n",
        "      print('Estou estudando')\n",
        "\n",
        "  class Filha(Mae):\n",
        "\n",
        "    def __init__(self, endereco):\n",
        "      super().__init__(endereco)\n",
        "\n",
        "    def brincar(self, brinquedo: str) -> None:\n",
        "      print(f'Estou brincando com {brinquedo}')\n",
        "\n",
        "  class Neta(Filha):\n",
        "\n",
        "    def __init__(self, endereco):\n",
        "      super().__init__(endereco)\n",
        "\n",
        "  ana = Mae('Rua Natan')\n",
        "  clara = Filha('Rua São João')\n",
        "  clara.brincar('boneca')\n",
        "\n",
        "  print(ana.endereco)\n",
        "  print(clara.endereco)\n"
      ],
      "metadata": {
        "colab": {
          "base_uri": "https://localhost:8080/"
        },
        "id": "TCIFDaBSa2ux",
        "outputId": "a8b5820d-ad64-4f98-87be-2e9d17c9800e"
      },
      "execution_count": null,
      "outputs": [
        {
          "output_type": "stream",
          "name": "stdout",
          "text": [
            "Estou brincando com boneca\n",
            "Rua Natan\n",
            "Rua São João\n"
          ]
        }
      ]
    },
    {
      "cell_type": "markdown",
      "source": [
        "# Polimorfismo"
      ],
      "metadata": {
        "id": "puvVv3gU8IUI"
      }
    },
    {
      "cell_type": "code",
      "source": [
        "  class Animal:\n",
        "\n",
        "    def fazer_som(self):\n",
        "      pass\n",
        "\n",
        "  class Cachorro(Animal):\n",
        "\n",
        "    def fazer_som(self):\n",
        "      return \"Au au!\"\n",
        "\n",
        "  class Gato(Animal):\n",
        "\n",
        "    def fazer_som(self):\n",
        "      return \"Miau!\"\n",
        "\n",
        "    def emitir_som(animal):\n",
        "      print(animal.fazer_som())\n",
        "\n",
        "  cachorro = Cachorro()\n",
        "  gato = Gato()\n",
        "\n",
        "  emitir_som(cachorro)  # Saída: Au au!\n",
        "  emitir_som(gato)      # Saída: Miau!"
      ],
      "metadata": {
        "id": "uZeb5TpG8Pd-"
      },
      "execution_count": null,
      "outputs": []
    },
    {
      "cell_type": "markdown",
      "source": [
        "# Agregação de Classes"
      ],
      "metadata": {
        "id": "hJXnlFp4PFpa"
      }
    },
    {
      "cell_type": "code",
      "source": [
        "  from typing import Type\n",
        "\n",
        "\n",
        "  class Produto:\n",
        "\n",
        "    def __init__(self, prod_nome: str, prod_valor: int) -> None:\n",
        "      self.__prod_nome = prod_nome\n",
        "      self.__self_valor = prod_valor\n",
        "\n",
        "    def informacoes_produto(self) -> None:\n",
        "      print(f'Produto: {self.__prod_nome} / Valor: R$ {self.__self_valor}')\n",
        "\n",
        "\n",
        "  class CarrinhoDeCompras:\n",
        "\n",
        "    def __init__(self) -> None:\n",
        "      self.__produtos = []\n",
        "\n",
        "    def adicionar_produto(self, produto: Type[Produto]) -> None:\n",
        "      self.__produtos.append(produto)\n",
        "\n",
        "    def finalizar_compra(self) -> None:\n",
        "      print('Copras Finalizadas!')\n",
        "\n",
        "      for produto in self.__produtos:\n",
        "        produto.informacoes_produto()\n",
        "\n",
        "      self.__produtos = []\n",
        "\n",
        "\n",
        "  car = CarrinhoDeCompras()\n",
        "  monitor = Produto('Monitor', 1000)\n",
        "  cerveja = Produto('Cerveja', 5)\n",
        "  tv = Produto ('TV', 1200)\n",
        "\n",
        "  car.adicionar_produto(monitor)\n",
        "  car.adicionar_produto(cerveja)\n",
        "  car.adicionar_produto(tv)\n",
        "\n",
        "  car.finalizar_compra()"
      ],
      "metadata": {
        "colab": {
          "base_uri": "https://localhost:8080/"
        },
        "id": "pd9oMLbsPK6a",
        "outputId": "b9d3cd47-d371-4ffe-ca6b-1407749e9e9d"
      },
      "execution_count": null,
      "outputs": [
        {
          "output_type": "stream",
          "name": "stdout",
          "text": [
            "Copras Finalizadas!\n",
            "Produto: Monitor / Valor: R$ 1000\n",
            "Produto: Cerveja / Valor: R$ 5\n",
            "Produto: TV / Valor: R$ 1200\n"
          ]
        }
      ]
    }
  ]
}