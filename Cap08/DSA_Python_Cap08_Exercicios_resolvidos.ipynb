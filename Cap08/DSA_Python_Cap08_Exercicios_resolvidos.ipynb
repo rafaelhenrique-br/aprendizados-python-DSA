{
  "cells": [
    {
      "cell_type": "markdown",
      "metadata": {
        "id": "iAVkev07OMv7"
      },
      "source": [
        "# <font color='blue'>Data Science Academy</font>\n",
        "\n",
        "## <font color='blue'>Fundamentos de Linguagem Python Para Análise de Dados e Data Science</font>\n",
        "\n",
        "## <font color='blue'>Introdução à Programação Orientada a Objetos</font>"
      ]
    },
    {
      "cell_type": "code",
      "execution_count": null,
      "metadata": {
        "id": "PMQbfEpfOMv_",
        "outputId": "d00b8b57-0609-402f-8cff-c8642fd95933"
      },
      "outputs": [
        {
          "name": "stdout",
          "output_type": "stream",
          "text": [
            "Versão da Linguagem Python Usada Neste Jupyter Notebook: 3.9.13\n"
          ]
        }
      ],
      "source": [
        "# Versão da Linguagem Python\n",
        "from platform import python_version\n",
        "print('Versão da Linguagem Python Usada Neste Jupyter Notebook:', python_version())"
      ]
    },
    {
      "cell_type": "markdown",
      "metadata": {
        "id": "IvQYKOK7OMwC"
      },
      "source": [
        "## Exercícios"
      ]
    },
    {
      "cell_type": "code",
      "execution_count": 3,
      "metadata": {
        "colab": {
          "base_uri": "https://localhost:8080/"
        },
        "id": "WQ3fXy18OMwC",
        "outputId": "bf38ca9d-c672-420d-928c-1e4cb54f83df"
      },
      "outputs": [
        {
          "output_type": "stream",
          "name": "stdout",
          "text": [
            "10 34\n",
            "22 78\n"
          ]
        }
      ],
      "source": [
        "# Exercício 1 - Crie um objeto a partir da classe abaixo, chamado roc1,\n",
        "# passando 2 parâmetros e depois faça uma chamada aos atributos e métodos\n",
        "from math import sqrt\n",
        "\n",
        "class Rocket():\n",
        "\n",
        "    def __init__(self, x=0, y=0):\n",
        "        self.x = x\n",
        "        self.y = y\n",
        "\n",
        "    def move_rocket(self, x_increment=0, y_increment=1):\n",
        "        self.x += x_increment\n",
        "        self.y += y_increment\n",
        "\n",
        "    def print_rocket(self):\n",
        "        print(self.x, self.y)\n",
        "\n",
        "roc1 = Rocket(10,34)\n",
        "roc1.x\n",
        "roc1.y\n",
        "roc1.print_rocket()\n",
        "roc1.move_rocket(12, 44)\n",
        "roc1.print_rocket()"
      ]
    },
    {
      "cell_type": "code",
      "execution_count": 4,
      "metadata": {
        "colab": {
          "base_uri": "https://localhost:8080/",
          "height": 53
        },
        "id": "LWxAvEzMOMwD",
        "outputId": "490240a6-3e8b-4381-c5f8-32c19952a24e"
      },
      "outputs": [
        {
          "output_type": "stream",
          "name": "stdout",
          "text": [
            "Objeto criado\n"
          ]
        },
        {
          "output_type": "execute_result",
          "data": {
            "text/plain": [
              "'O usuário Pele mora na cidade Três Corações'"
            ],
            "application/vnd.google.colaboratory.intrinsic+json": {
              "type": "string"
            }
          },
          "metadata": {},
          "execution_count": 4
        }
      ],
      "source": [
        "# Exercício 2 - Crie uma classe chamada Pessoa() com os atributos: nome, cidade, telefone e e-mail. Use pelo menos 2\n",
        "# métodos especiais na sua classe. Crie um objeto da sua classe e faça uma chamada a pelo menos um dos seus métodos\n",
        "# especiais.\n",
        "\n",
        "class Pessoa():\n",
        "\n",
        "  def __init__(self, nome, cidade, telefone, email):\n",
        "    self.nome = nome\n",
        "    self.cidade = cidade\n",
        "    self.telefone = telefone\n",
        "    self.email = email\n",
        "    print(\"Objeto criado\")\n",
        "\n",
        "  def __str__(self):\n",
        "    return \"O usuário \" + self.nome + \" mora na cidade \" + self.cidade\n",
        "\n",
        "P1 = Pessoa(\"Pele\", \"Três Corações\", 99887766, \"pele@gmail.com\")\n",
        "str(P1)"
      ]
    },
    {
      "cell_type": "code",
      "execution_count": 5,
      "metadata": {
        "colab": {
          "base_uri": "https://localhost:8080/"
        },
        "id": "y4QztgZ1OMwD",
        "outputId": "8252c21a-f197-4cc5-fce0-6d4f2a8381b2"
      },
      "outputs": [
        {
          "output_type": "stream",
          "name": "stdout",
          "text": [
            "Valores para o objeto criado: Pequeno, Led, 64 GB\n"
          ]
        }
      ],
      "source": [
        "# Exercício 3 - Crie a classe Smartphone com 2 atributos, tamanho e interface e crie a classe MP3Player com os\n",
        "# atributos capacidade. A classe MP3player deve herdar os atributos da classe Smartphone.\n",
        "\n",
        "class Smartphone():\n",
        "  def __init__(self, tamanho, interface):\n",
        "    self.tamanho = tamanho\n",
        "    self.interface = interface\n",
        "\n",
        "class MP3Player(Smartphone):\n",
        "  def __init__(self, capacidade, tamanho = 'Pequeno', interface = 'Led'):\n",
        "    self.capacidade = capacidade\n",
        "    Smartphone.__init__(self, tamanho, interface)\n",
        "\n",
        "  def print_mp3player(self):\n",
        "    print(f'Valores para o objeto criado: {self.tamanho}, {self.interface}, {self.capacidade}')\n",
        "\n",
        "device1 = MP3Player('64 GB')\n",
        "device1.print_mp3player()"
      ]
    },
    {
      "cell_type": "markdown",
      "metadata": {
        "id": "VJytElXbOMwE"
      },
      "source": [
        "### FIM"
      ]
    },
    {
      "cell_type": "markdown",
      "metadata": {
        "id": "B2GKEtVaOMwE"
      },
      "source": [
        "### Obrigado\n",
        "\n",
        "### Visite o Blog da Data Science Academy - <a href=\"http://blog.dsacademy.com.br\">Blog DSA</a>"
      ]
    }
  ],
  "metadata": {
    "kernelspec": {
      "display_name": "Python 3 (ipykernel)",
      "language": "python",
      "name": "python3"
    },
    "language_info": {
      "codemirror_mode": {
        "name": "ipython",
        "version": 3
      },
      "file_extension": ".py",
      "mimetype": "text/x-python",
      "name": "python",
      "nbconvert_exporter": "python",
      "pygments_lexer": "ipython3",
      "version": "3.9.13"
    },
    "colab": {
      "provenance": []
    }
  },
  "nbformat": 4,
  "nbformat_minor": 0
}