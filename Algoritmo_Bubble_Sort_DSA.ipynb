{
  "nbformat": 4,
  "nbformat_minor": 0,
  "metadata": {
    "colab": {
      "provenance": [],
      "authorship_tag": "ABX9TyPg10znrXc+r2c1rmcESx+Z",
      "include_colab_link": true
    },
    "kernelspec": {
      "name": "python3",
      "display_name": "Python 3"
    },
    "language_info": {
      "name": "python"
    }
  },
  "cells": [
    {
      "cell_type": "markdown",
      "metadata": {
        "id": "view-in-github",
        "colab_type": "text"
      },
      "source": [
        "<a href=\"https://colab.research.google.com/github/rafaelhenrique-br/aprendizados-python-DSA/blob/main/Algoritmo_Bubble_Sort_DSA.ipynb\" target=\"_parent\"><img src=\"https://colab.research.google.com/assets/colab-badge.svg\" alt=\"Open In Colab\"/></a>"
      ]
    },
    {
      "cell_type": "markdown",
      "source": [
        "# Bubble Sort\n",
        "\n",
        "- Bubble Sort é um algoritmo de ordenação simples que funciona comparando cada elemento com o próximo, e trocando-os de lugar se eles estiverem em ordem incorreta.\n",
        "\n",
        "- O algoritmo repete esse processo várias vezes, até que todos os elementos estejam ordenados.\n",
        "\n",
        "- A cada passagem, o maior elemento \"flutua\" para o final do array, como uma bolha, dando origem ao nome do algoritmo."
      ],
      "metadata": {
        "id": "nj59dt8ljqqA"
      }
    },
    {
      "cell_type": "markdown",
      "source": [
        "## Pseudocódigo\n",
        "1. Pedir pro usuário botar números dentro de uma lista\n",
        "2. Se os números já estiverem ordenados, informe \"os números já estão ordenados\"\n",
        "3. Se não, percorra toda a lista a fim de comparar o primeiro termo com os outros e assim vai\n",
        "4. Se o primeiro termo for menor, ele fica lá. Se houver um menor que ele, coloque na posição."
      ],
      "metadata": {
        "id": "d7ZZBnf0lCCZ"
      }
    },
    {
      "cell_type": "markdown",
      "source": [
        "# Uma forma de fazer:"
      ],
      "metadata": {
        "id": "C5w3nStDRutg"
      }
    },
    {
      "cell_type": "code",
      "source": [
        "numeros = []\n",
        "# Pedindo pro usuário montar uma lista de 5 elementos:\n",
        "for i in range(5):\n",
        "    numero = int(input(\"Digite um número: \"))\n",
        "    numeros.append(numero)\n",
        "\n",
        "print(\"Lista antes do Bubble Sort:\", numeros)\n",
        "\n",
        "# Implementação do Bubble Sort\n",
        "n = len(numeros)\n",
        "for i in range(n):\n",
        "    for j in range(0, n-i-1):\n",
        "        if numeros[j] > numeros[j+1]:\n",
        "            # Troca os elementos se estiverem fora de ordem\n",
        "            numeros[j], numeros[j+1] = numeros[j+1], numeros[j]\n",
        "\n",
        "print(\"Lista após o Bubble Sort:\", numeros)\n",
        "\n"
      ],
      "metadata": {
        "colab": {
          "base_uri": "https://localhost:8080/"
        },
        "id": "gjwzhxYalcNW",
        "outputId": "1a304055-ceba-4f4b-c6aa-4ec4fd9df640"
      },
      "execution_count": null,
      "outputs": [
        {
          "output_type": "stream",
          "name": "stdout",
          "text": [
            "Digite um número: 1\n",
            "Digite um número: 3\n",
            "Digite um número: 0\n",
            "Digite um número: 7\n",
            "Digite um número: 4\n",
            "Lista antes do Bubble Sort: [1, 3, 0, 7, 4]\n",
            "Lista após o Bubble Sort: [0, 1, 3, 4, 7]\n"
          ]
        }
      ]
    },
    {
      "cell_type": "markdown",
      "source": [
        "# Outra Alternativa"
      ],
      "metadata": {
        "id": "gmhom3WIRzrn"
      }
    },
    {
      "cell_type": "code",
      "source": [
        "import random\n",
        "# Dessa vez, usando uma função para automatizar o código\n",
        "def bubble_sort(lista):\n",
        "    n = len(lista)\n",
        "    for j in range(n-1):\n",
        "        for i in range(n-1):\n",
        "            if lista[i] > lista[i+1]:\n",
        "                lista[i], lista[i+1] = lista[i+1], lista[i]\n",
        "\n",
        "# Gerando uma lista aleatória de 15 elementos entre os números 1 e 1000\n",
        "any_numbers = random.sample(range(1, 1001), 15)\n",
        "\n",
        "print('Lista Original:')\n",
        "print(any_numbers)\n",
        "\n",
        "lista_ordenada = any_numbers.copy()\n",
        "\n",
        "# Chamando a função\n",
        "bubble_sort(lista_ordenada)\n",
        "\n",
        "print('Lista Ordenada:')\n",
        "print(lista_ordenada)\n",
        "\n",
        "\n"
      ],
      "metadata": {
        "colab": {
          "base_uri": "https://localhost:8080/"
        },
        "id": "1cnyRJQmzIMB",
        "outputId": "1ff2d620-cc18-4026-d1e0-1518210f34f7"
      },
      "execution_count": null,
      "outputs": [
        {
          "output_type": "stream",
          "name": "stdout",
          "text": [
            "Lista Original:\n",
            "[115, 497, 187, 525, 210, 116, 941, 798, 727, 539, 294, 964, 262, 836, 921, 998, 192, 933, 222, 97, 672, 368, 763, 545, 204, 635, 958, 205, 703, 96, 50, 739, 948, 167, 181, 257, 904, 87, 589, 601, 321, 153]\n",
            "Lista Ordenada:\n",
            "[50, 87, 96, 97, 115, 116, 153, 167, 181, 187, 192, 204, 205, 210, 222, 257, 262, 294, 321, 368, 497, 525, 539, 545, 589, 601, 635, 672, 703, 727, 739, 763, 798, 836, 904, 921, 933, 941, 948, 958, 964, 998]\n"
          ]
        }
      ]
    }
  ]
}